{
 "cells": [
  {
   "cell_type": "code",
   "execution_count": 1,
   "metadata": {},
   "outputs": [],
   "source": [
    "from langchain_ollama import OllamaLLM"
   ]
  },
  {
   "cell_type": "code",
   "execution_count": 8,
   "metadata": {},
   "outputs": [],
   "source": [
    "llm = OllamaLLM(model = \"deepseek-r1:1.5b-qwen-distill-q4_K_M\",  base_url=\"http://localhost:8080\")"
   ]
  },
  {
   "cell_type": "code",
   "execution_count": 9,
   "metadata": {},
   "outputs": [],
   "source": [
    "response = llm.invoke(\"Write a short poem about technology.\")"
   ]
  },
  {
   "cell_type": "code",
   "execution_count": 10,
   "metadata": {},
   "outputs": [
    {
     "name": "stdout",
     "output_type": "stream",
     "text": [
      "<think>\n",
      "Okay, so the user wants me to write a short poem about technology. Let me start by thinking about what I know regarding technology. Technology has evolved over time, and it's transformed almost everything from transportation to communication. But when we talk about it in general, I think focusing on both its advancements and the negative impacts is key.\n",
      "\n",
      "First, I should consider how to balance positive and negative aspects of technology. Maybe highlight some notable technological achievements while also discussing their effects on society. \n",
      "\n",
      "I'll need a structure that's easy for a poem to follow—like four-line stanzas with an ABAB rhyme scheme. That seems manageable. Each stanza can focus on different phases or key areas of technology.\n",
      "\n",
      "Let me brainstorm some elements: the future, current advancements, historical impacts, and potential challenges. I want to show both growth and limitations.\n",
      "\n",
      "I should also think about imagery related to technology—like screens, buttons, holograms, etc. Using these visuals will make the poem more engaging.\n",
      "\n",
      "Now, considering the user's possible intent, they might be looking for something that's concise but meaningful. They could be interested in understanding how technology affects everyday life and society as a whole.\n",
      "\n",
      "I need to avoid being too technical since it's a poem, so keeping it broad enough without losing depth. Maybe touch on ethical issues related to AI, data privacy, etc., which are becoming increasingly important.\n",
      "\n",
      "Let me outline the stanzas:\n",
      "\n",
      "1. Introduce the evolution of technology from ancient times.\n",
      "2. Highlight current achievements and their social impact.\n",
      "3. Discuss historical influences that shaped technological progress.\n",
      "4. Conclude with a reflection on the dual nature of technology—both positive and negative.\n",
      "\n",
      "In each stanza, I'll use metaphors and similes to relate technology to something familiar, like a brain or a mind, which can make it more relatable. Using rhyme will help maintain the rhythm and flow of the poem.\n",
      "\n",
      "I should also include some imagery about the interface between past and future, as that's often a recurring theme in tech poems. Maybe talk about how technology adapts to our needs but also has limitations that require us to rethink society.\n",
      "\n",
      "Let me make sure each line flows smoothly into the next, creating a cohesive narrative that tells a story through the lens of technology.\n",
      "\n",
      "Alright, putting it all together now.\n",
      "</think>\n",
      "\n",
      "The wheel spun so slow,  \n",
      "A machine’s gears turning smooth.  \n",
      "Technology begins, in our hearts,  \n",
      "\n",
      "As shadows fade away,  \n",
      "In flickering screens.  \n",
      "A mind grows sharp,  \n",
      "With thoughts born anew.  \n",
      "\n",
      "From stone to silicon,  \n",
      "Each innovation’s a story.  \n",
      "The brain becomes vast,  \n",
      "Its neurons growing longer.  \n",
      "\n",
      "Yet as we see the future,  \n",
      "In a world so different,  \n",
      "Technology finds its place,  \n",
      "But it also speaks of changes.  \n",
      "\n",
      "So hold on, let this mind grow,  \n",
      "As shadows and screens show.  \n",
      "A machine’s voice rings deep,  \n",
      "In our hearts, a thread tight.\n"
     ]
    }
   ],
   "source": [
    "print(response)"
   ]
  },
  {
   "cell_type": "code",
   "execution_count": null,
   "metadata": {},
   "outputs": [],
   "source": []
  }
 ],
 "metadata": {
  "kernelspec": {
   "display_name": "mcondaenv",
   "language": "python",
   "name": "python3"
  },
  "language_info": {
   "codemirror_mode": {
    "name": "ipython",
    "version": 3
   },
   "file_extension": ".py",
   "mimetype": "text/x-python",
   "name": "python",
   "nbconvert_exporter": "python",
   "pygments_lexer": "ipython3",
   "version": "3.12.4"
  }
 },
 "nbformat": 4,
 "nbformat_minor": 2
}
