{
 "cells": [
  {
   "cell_type": "code",
   "execution_count": 1,
   "metadata": {},
   "outputs": [],
   "source": [
    "from langchain_ollama import OllamaLLM"
   ]
  },
  {
   "cell_type": "code",
   "execution_count": 2,
   "metadata": {},
   "outputs": [],
   "source": [
    "llm = OllamaLLM(model = \"deepseek-r1:1.5b-qwen-distill-q4_K_M\",  base_url=\"http://localhost:8080\")"
   ]
  },
  {
   "cell_type": "code",
   "execution_count": 6,
   "metadata": {},
   "outputs": [],
   "source": [
    "response = llm.invoke(\"capital of india\")"
   ]
  },
  {
   "cell_type": "code",
   "execution_count": 7,
   "metadata": {},
   "outputs": [
    {
     "name": "stdout",
     "output_type": "stream",
     "text": [
      "<think>\n",
      "\n",
      "</think>\n",
      "\n",
      "The **_capital** of India refers to the central administrative and financial center of the country. As of now, it is:\n",
      "\n",
      "### 1. **London**\n",
      "   - The government of India is officially based in the capital city of London, known as **Delhi**.\n",
      "   - Delhi serves as both the administrative and financial hub of India.\n",
      "\n",
      "### 2. **New Delhi**\n",
      "   - New Delhi, often referred to as the \"City of Literature,\" is the administrative and economic heart of India.\n",
      "   - It is the largest city in India and serves as the capital of much of the southern state of UP (Uttar Pradesh) and West Bengal.\n",
      "\n",
      "### 3. **Mumbai/Chennai**\n",
      "   - Mumbai and Chennai are significant business cities in India.\n",
      "   - Mumbai, often called \"The City of Culture,\" is a major hub for business, education, and entertainment.\n",
      "   - Chennai has been an economic powerhouse for much of its history.\n",
      "\n",
      "### 4. **Bangalore**\n",
      "   - Bangalore is known as the \"City of Flowers\" and serves as a key administrative center in the South.\n",
      "   - It is also the commercial and industrial heart of the Southern states of Andaman & Nicobar, Indian Ocean, and Indianstate of Tamil Nadu.\n",
      "\n",
      "### 5. **Guwahati**\n",
      "   - Guwahati is an autonomous town under the Union government of India.\n",
      "   - It serves as the administrative center of the North.\n",
      "   - The capital of the state of Assam is also Guwahati.\n",
      "\n",
      "### 6. **Chennai (As a City)**\n",
      "   - Chennai, often called the \"King's City,\" is an autonomous city in the Indian State of Tamil Nadu.\n",
      "   - It was originally considered as a royal city after the establishment of the Rule of Fort, but it has evolved into a major business and commercial hub.\n",
      "\n",
      "### 7. **Kolkata (As a City)**\n",
      "   - Kolkata is the administrative center of West Bengal.\n",
      "   - It serves as an important industrial and commercial hub in the state.\n",
      "\n",
      "### 8. **Hyderabad/Prayama (Southwest Coast)**\n",
      "   - The administrative capital of the South states, including Andhra Pradesh, Odisha, and Telangana.\n",
      "   - It is also known as the \"City of Coffee.\"\n",
      "\n",
      "### 9. **Bengal**\n",
      "   - Bengal is a district in West Bengal, but it serves more as an autonomous administrative division than as a main economic hub.\n",
      "\n",
      "### 10. **Chandigarh**\n",
      "   - Chandigarh is the administrative capital of Punjab and Sud Carnegie.\n",
      "   - It is known as the \"City of Culture.\"\n",
      "\n",
      "### 11. **Jammu & Kashmir**\n",
      "   - The capital cities of these two states are Jammu and Kashmir, respectively.\n",
      "\n",
      "As of recent elections in 2024, the Indian government's administration has moved to Delhi, with the other administrative centers becoming autonomous regions (AutRs). This shift was triggered by political changes but is still considered a continuation of India's constitutional framework.\n"
     ]
    }
   ],
   "source": [
    "print(response)"
   ]
  },
  {
   "cell_type": "code",
   "execution_count": null,
   "metadata": {},
   "outputs": [],
   "source": []
  }
 ],
 "metadata": {
  "kernelspec": {
   "display_name": "mcondaenv",
   "language": "python",
   "name": "python3"
  },
  "language_info": {
   "codemirror_mode": {
    "name": "ipython",
    "version": 3
   },
   "file_extension": ".py",
   "mimetype": "text/x-python",
   "name": "python",
   "nbconvert_exporter": "python",
   "pygments_lexer": "ipython3",
   "version": "3.12.4"
  }
 },
 "nbformat": 4,
 "nbformat_minor": 2
}
